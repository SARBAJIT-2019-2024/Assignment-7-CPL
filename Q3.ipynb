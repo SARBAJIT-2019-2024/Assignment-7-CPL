{
 "cells": [
  {
   "cell_type": "markdown",
   "metadata": {},
   "source": []
  },
  {
   "cell_type": "markdown",
   "metadata": {},
   "source": []
  },
  {
   "cell_type": "markdown",
   "metadata": {},
   "source": [
    "Infinite Potential well is defined as:\n",
    "\n",
    "\n",
    "$${\\displaystyle V(x)={\\begin{cases}0,&x_{c}-{\\tfrac {L}{2}}<x<x_{c}+{\\tfrac {L}{2}},\\\\\\infty ,&{\\text{otherwise,}}\\end{cases}},}$$\n",
    "\n",
    "\n",
    "the equation\n",
    "\n",
    "$$\\frac{d^{2}\\psi}{dx^2}=-\\frac{2E}{\\hbar^{2}}\\psi$$\n",
    "\n",
    "$$E_{n}=\\frac{n^2\\pi^2\\hbar^{2}}{2mL^2}$$"
   ]
  },
  {
   "cell_type": "code",
   "execution_count": 1,
   "metadata": {},
   "outputs": [
    {
     "name": "stdout",
     "output_type": "stream",
     "text": [
      "The plot using Shooting method for n=1 level is \n"
     ]
    },
    {
     "data": {
      "text/plain": [
       "Text(0, 0.5, '$\\\\psi(x)$')"
      ]
     },
     "execution_count": 1,
     "metadata": {},
     "output_type": "execute_result"
    },
    {
     "data": {
      "image/png": "[encoded data removed]",
      "text/plain": [
       "<Figure size 432x288 with 1 Axes>"
      ]
     },
     "metadata": {
      "needs_background": "light"
     },
     "output_type": "display_data"
    }
   ],
   "source": [
    "from My_Lib import*\n",
    "import numpy as np\n",
    "import matplotlib.pyplot as plt\n",
    "import math\n",
    "\n",
    "a=2 #width of the well\n",
    "#For 1st energy state\n",
    "n=1\n",
    "E=math.pi**2*n**2/(2*1*a**2) #Energy in the units of h cut, mass,m=1\n",
    "\n",
    "\n",
    "\n",
    "def d2ydx2(x, y, z): #defining 2nd order functions\n",
    "    return -2*E*y\n",
    "\n",
    "\n",
    "def dydx(x, y, z):\n",
    "    return z\n",
    "\n",
    "x, y, z = shooting_method(d2ydx2, dydx, -a/2, 0, a/2, 0, 1, 2, 0.05) #Calling the shooting method\n",
    "\n",
    "print(\"The plot using Shooting method for n=1 level is \") #Plotting the solution\n",
    "plt.plot(x,y,'r+') \n",
    "plt.xlabel(\"$x$\")\n",
    "plt.ylabel(\"$\\psi(x)$\")\n",
    "\n",
    "\n",
    "\n"
   ]
  },
  {
   "cell_type": "code",
   "execution_count": 11,
   "metadata": {},
   "outputs": [
    {
     "name": "stdout",
     "output_type": "stream",
     "text": [
      "The plot using Shooting method for n=2 level is \n"
     ]
    },
    {
     "data": {
      "text/plain": [
       "Text(0, 0.5, '$\\\\psi(x)$')"
      ]
     },
     "execution_count": 11,
     "metadata": {},
     "output_type": "execute_result"
    },
    {
     "data": {
      "image/png": "[encoded data removed]",
      "text/plain": [
       "<Figure size 432x288 with 1 Axes>"
      ]
     },
     "metadata": {
      "needs_background": "light"
     },
     "output_type": "display_data"
    }
   ],
   "source": [
    "\n",
    "#For 2nd energy state\n",
    "n=2\n",
    "a=2#width of the well\n",
    "E=math.pi**2*n**2/(2*1*a**2)#Energy in the units of h cut, mass,m=1\n",
    "\n",
    "\n",
    "\n",
    "def d2ydx2(x, y, z):\n",
    "    return -2*E*y\n",
    "\n",
    "\n",
    "def dydx(x, y, z):\n",
    "    return z\n",
    "\n",
    "x, y, z = shooting_method(d2ydx2, dydx, -a/2, 0, a/2, 0, 0.1, 5, 0.05) #Calling shooting method\n",
    "print(\"The plot using Shooting method for n=2 level is \") \n",
    "plt.plot(x,y,'r*') #Plotting the solution\n",
    "plt.xlabel(\"$x$\")\n",
    "plt.ylabel(\"$\\psi(x)$\")"
   ]
  }
 ],
 "metadata": {
  "interpreter": {
   "hash": "2e5e1f8e546ab1b895d222b8f24baeb07cb94671923e1f3306e7f49117bb6511"
  },
  "kernelspec": {
   "display_name": "Python 3.9.6 64-bit",
   "language": "python",
   "name": "python3"
  },
  "language_info": {
   "codemirror_mode": {
    "name": "ipython",
    "version": 3
   },
   "file_extension": ".py",
   "mimetype": "text/x-python",
   "name": "python",
   "nbconvert_exporter": "python",
   "pygments_lexer": "ipython3",
   "version": "3.9.6"
  },
  "orig_nbformat": 4
 },
 "nbformat": 4,
 "nbformat_minor": 2
}
